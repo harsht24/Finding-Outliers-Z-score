{
 "cells": [
  {
   "cell_type": "markdown",
   "metadata": {},
   "source": [
    "# What is an outlier?\n",
    "\n",
    "An outlier is a data point that differs significantly from other observations. An outlier may be due to variability in the measurement or it may indicate experimental error. \n",
    "\n"
   ]
  },
  {
   "attachments": {},
   "cell_type": "markdown",
   "metadata": {},
   "source": [
    "# How an outlier looks like?\n",
    "\n",
    "![oddballs](https://user-images.githubusercontent.com/32032491/64904575-86467800-d6e9-11e9-8ccf-d577a99fa11d.jpg)\n",
    "\n",
    "Golf ball among the eggs is an outlier."
   ]
  },
  {
   "cell_type": "markdown",
   "metadata": {},
   "source": [
    "# How an outlier in data looks like?\n",
    "\n",
    "data = [10, 33, 2, 999999, 9, 5, 26, 62, 44, 17, 38, 11, 14, 440, 21]\n",
    "\n",
    "In the array data the element 999999 on 3rd index is an outlier."
   ]
  },
  {
   "attachments": {},
   "cell_type": "markdown",
   "metadata": {},
   "source": [
    "# Detecting an outlier with Z-score method\n",
    "\n",
    "<h3> What is z-score ? </h3>\n",
    "    \n",
    "A Z-score is a numerical measurement used in statistics of a value's relationship to the mean (average) of a group of values, measured in terms of standard deviations from the mean. If a Z-score is 0, it indicates that the data point's score is identical to the mean score. A Z-score of 1.0 would indicate a value that is one standard deviation from the mean. Z-scores may be positive or negative, with a positive value indicating the score is above the mean and a negative score indicating it is below the mean.\n",
    "\n",
    "![alternate-z-score](https://user-images.githubusercontent.com/32032491/64904558-54351600-d6e9-11e9-9de0-fc3574ddbbef.png)\n",
    "\n",
    "\n",
    "formula to calculate z-score.\n"
   ]
  },
  {
   "cell_type": "code",
   "execution_count": 3,
   "metadata": {},
   "outputs": [],
   "source": [
    "#importing library\n",
    "import pandas as pd"
   ]
  },
  {
   "cell_type": "code",
   "execution_count": 2,
   "metadata": {},
   "outputs": [],
   "source": [
    "data = [10,33,2,30300,999999,9,5,26,62,44,17,38,11,14,440,21]\n",
    "\n",
    "threshold = 3   # we want the elements within the 3rd standard deviation.\n",
    "\n",
    "outliers = []   "
   ]
  },
  {
   "cell_type": "code",
   "execution_count": 4,
   "metadata": {},
   "outputs": [],
   "source": [
    "mean_data = np.mean(data)      #taking mean (average) of the elements of data array.\n",
    "\n",
    "std_data = np.std(data)       #taking standard deviation of the elements of data array."
   ]
  },
  {
   "cell_type": "code",
   "execution_count": 5,
   "metadata": {},
   "outputs": [],
   "source": [
    "for i in data:\n",
    "    z_score = (i - mean_data)/std_data     # formula for z-score\n",
    "    \n",
    "    if np.abs(z_score) > threshold:    # It makes sure all the z-score values(positive and negative) lies withn the 3rd std. If not then append to array outliers.\n",
    "        outliers.append(i)"
   ]
  },
  {
   "cell_type": "markdown",
   "metadata": {},
   "source": [
    "Outlier in the data is : "
   ]
  },
  {
   "cell_type": "code",
   "execution_count": 7,
   "metadata": {},
   "outputs": [
    {
     "data": {
      "text/plain": [
       "[999999]"
      ]
     },
     "execution_count": 7,
     "metadata": {},
     "output_type": "execute_result"
    }
   ],
   "source": [
    "outliers"
   ]
  },
  {
   "cell_type": "code",
   "execution_count": null,
   "metadata": {},
   "outputs": [],
   "source": []
  }
 ],
 "metadata": {
  "kernelspec": {
   "display_name": "Python 3",
   "language": "python",
   "name": "python3"
  },
  "language_info": {
   "codemirror_mode": {
    "name": "ipython",
    "version": 3
   },
   "file_extension": ".py",
   "mimetype": "text/x-python",
   "name": "python",
   "nbconvert_exporter": "python",
   "pygments_lexer": "ipython3",
   "version": "3.7.3"
  }
 },
 "nbformat": 4,
 "nbformat_minor": 2
}
